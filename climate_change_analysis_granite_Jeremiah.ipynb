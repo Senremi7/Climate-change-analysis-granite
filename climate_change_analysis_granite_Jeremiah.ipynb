{
  "nbformat": 4,
  "nbformat_minor": 0,
  "metadata": {
    "colab": {
      "provenance": [],
      "authorship_tag": "ABX9TyN3iSPBiVbE9omChEnHl8Np",
      "include_colab_link": true
    },
    "kernelspec": {
      "name": "python3",
      "display_name": "Python 3"
    },
    "language_info": {
      "name": "python"
    }
  },
  "cells": [
    {
      "cell_type": "markdown",
      "metadata": {
        "id": "view-in-github",
        "colab_type": "text"
      },
      "source": [
        "<a href=\"https://colab.research.google.com/github/Senremi7/Climate-change-analysis-granite/blob/main/climate_change_analysis_granite_Jeremiah.ipynb\" target=\"_parent\"><img src=\"https://colab.research.google.com/assets/colab-badge.svg\" alt=\"Open In Colab\"/></a>"
      ]
    },
    {
      "cell_type": "code",
      "execution_count": 1,
      "metadata": {
        "colab": {
          "base_uri": "https://localhost:8080/"
        },
        "id": "7VbhNpb7Kz0H",
        "outputId": "0ac415e5-099d-429c-ee3d-3eb8f9cb1ee5"
      },
      "outputs": [
        {
          "output_type": "stream",
          "name": "stdout",
          "text": [
            "Collecting replicate\n",
            "  Downloading replicate-1.0.7-py3-none-any.whl.metadata (29 kB)\n",
            "Requirement already satisfied: httpx<1,>=0.21.0 in /usr/local/lib/python3.12/dist-packages (from replicate) (0.28.1)\n",
            "Requirement already satisfied: packaging in /usr/local/lib/python3.12/dist-packages (from replicate) (25.0)\n",
            "Requirement already satisfied: pydantic>1.10.7 in /usr/local/lib/python3.12/dist-packages (from replicate) (2.11.9)\n",
            "Requirement already satisfied: typing_extensions>=4.5.0 in /usr/local/lib/python3.12/dist-packages (from replicate) (4.15.0)\n",
            "Requirement already satisfied: anyio in /usr/local/lib/python3.12/dist-packages (from httpx<1,>=0.21.0->replicate) (4.10.0)\n",
            "Requirement already satisfied: certifi in /usr/local/lib/python3.12/dist-packages (from httpx<1,>=0.21.0->replicate) (2025.8.3)\n",
            "Requirement already satisfied: httpcore==1.* in /usr/local/lib/python3.12/dist-packages (from httpx<1,>=0.21.0->replicate) (1.0.9)\n",
            "Requirement already satisfied: idna in /usr/local/lib/python3.12/dist-packages (from httpx<1,>=0.21.0->replicate) (3.10)\n",
            "Requirement already satisfied: h11>=0.16 in /usr/local/lib/python3.12/dist-packages (from httpcore==1.*->httpx<1,>=0.21.0->replicate) (0.16.0)\n",
            "Requirement already satisfied: annotated-types>=0.6.0 in /usr/local/lib/python3.12/dist-packages (from pydantic>1.10.7->replicate) (0.7.0)\n",
            "Requirement already satisfied: pydantic-core==2.33.2 in /usr/local/lib/python3.12/dist-packages (from pydantic>1.10.7->replicate) (2.33.2)\n",
            "Requirement already satisfied: typing-inspection>=0.4.0 in /usr/local/lib/python3.12/dist-packages (from pydantic>1.10.7->replicate) (0.4.1)\n",
            "Requirement already satisfied: sniffio>=1.1 in /usr/local/lib/python3.12/dist-packages (from anyio->httpx<1,>=0.21.0->replicate) (1.3.1)\n",
            "Downloading replicate-1.0.7-py3-none-any.whl (48 kB)\n",
            "\u001b[2K   \u001b[90m━━━━━━━━━━━━━━━━━━━━━━━━━━━━━━━━━━━━━━━━\u001b[0m \u001b[32m48.6/48.6 kB\u001b[0m \u001b[31m3.1 MB/s\u001b[0m eta \u001b[36m0:00:00\u001b[0m\n",
            "\u001b[?25hInstalling collected packages: replicate\n",
            "Successfully installed replicate-1.0.7\n",
            "Collecting langchain_community\n",
            "  Downloading langchain_community-0.3.29-py3-none-any.whl.metadata (2.9 kB)\n",
            "Requirement already satisfied: langchain-core<2.0.0,>=0.3.75 in /usr/local/lib/python3.12/dist-packages (from langchain_community) (0.3.76)\n",
            "Requirement already satisfied: langchain<2.0.0,>=0.3.27 in /usr/local/lib/python3.12/dist-packages (from langchain_community) (0.3.27)\n",
            "Requirement already satisfied: SQLAlchemy<3,>=1.4 in /usr/local/lib/python3.12/dist-packages (from langchain_community) (2.0.43)\n",
            "Collecting requests<3,>=2.32.5 (from langchain_community)\n",
            "  Downloading requests-2.32.5-py3-none-any.whl.metadata (4.9 kB)\n",
            "Requirement already satisfied: PyYAML>=5.3 in /usr/local/lib/python3.12/dist-packages (from langchain_community) (6.0.2)\n",
            "Requirement already satisfied: aiohttp<4.0.0,>=3.8.3 in /usr/local/lib/python3.12/dist-packages (from langchain_community) (3.12.15)\n",
            "Requirement already satisfied: tenacity!=8.4.0,<10,>=8.1.0 in /usr/local/lib/python3.12/dist-packages (from langchain_community) (8.5.0)\n",
            "Collecting dataclasses-json<0.7,>=0.6.7 (from langchain_community)\n",
            "  Downloading dataclasses_json-0.6.7-py3-none-any.whl.metadata (25 kB)\n",
            "Requirement already satisfied: pydantic-settings<3.0.0,>=2.10.1 in /usr/local/lib/python3.12/dist-packages (from langchain_community) (2.10.1)\n",
            "Requirement already satisfied: langsmith>=0.1.125 in /usr/local/lib/python3.12/dist-packages (from langchain_community) (0.4.28)\n",
            "Requirement already satisfied: httpx-sse<1.0.0,>=0.4.0 in /usr/local/lib/python3.12/dist-packages (from langchain_community) (0.4.1)\n",
            "Requirement already satisfied: numpy>=1.26.2 in /usr/local/lib/python3.12/dist-packages (from langchain_community) (2.0.2)\n",
            "Requirement already satisfied: aiohappyeyeballs>=2.5.0 in /usr/local/lib/python3.12/dist-packages (from aiohttp<4.0.0,>=3.8.3->langchain_community) (2.6.1)\n",
            "Requirement already satisfied: aiosignal>=1.4.0 in /usr/local/lib/python3.12/dist-packages (from aiohttp<4.0.0,>=3.8.3->langchain_community) (1.4.0)\n",
            "Requirement already satisfied: attrs>=17.3.0 in /usr/local/lib/python3.12/dist-packages (from aiohttp<4.0.0,>=3.8.3->langchain_community) (25.3.0)\n",
            "Requirement already satisfied: frozenlist>=1.1.1 in /usr/local/lib/python3.12/dist-packages (from aiohttp<4.0.0,>=3.8.3->langchain_community) (1.7.0)\n",
            "Requirement already satisfied: multidict<7.0,>=4.5 in /usr/local/lib/python3.12/dist-packages (from aiohttp<4.0.0,>=3.8.3->langchain_community) (6.6.4)\n",
            "Requirement already satisfied: propcache>=0.2.0 in /usr/local/lib/python3.12/dist-packages (from aiohttp<4.0.0,>=3.8.3->langchain_community) (0.3.2)\n",
            "Requirement already satisfied: yarl<2.0,>=1.17.0 in /usr/local/lib/python3.12/dist-packages (from aiohttp<4.0.0,>=3.8.3->langchain_community) (1.20.1)\n",
            "Collecting marshmallow<4.0.0,>=3.18.0 (from dataclasses-json<0.7,>=0.6.7->langchain_community)\n",
            "  Downloading marshmallow-3.26.1-py3-none-any.whl.metadata (7.3 kB)\n",
            "Collecting typing-inspect<1,>=0.4.0 (from dataclasses-json<0.7,>=0.6.7->langchain_community)\n",
            "  Downloading typing_inspect-0.9.0-py3-none-any.whl.metadata (1.5 kB)\n",
            "Requirement already satisfied: langchain-text-splitters<1.0.0,>=0.3.9 in /usr/local/lib/python3.12/dist-packages (from langchain<2.0.0,>=0.3.27->langchain_community) (0.3.11)\n",
            "Requirement already satisfied: pydantic<3.0.0,>=2.7.4 in /usr/local/lib/python3.12/dist-packages (from langchain<2.0.0,>=0.3.27->langchain_community) (2.11.9)\n",
            "Requirement already satisfied: jsonpatch<2.0,>=1.33 in /usr/local/lib/python3.12/dist-packages (from langchain-core<2.0.0,>=0.3.75->langchain_community) (1.33)\n",
            "Requirement already satisfied: typing-extensions>=4.7 in /usr/local/lib/python3.12/dist-packages (from langchain-core<2.0.0,>=0.3.75->langchain_community) (4.15.0)\n",
            "Requirement already satisfied: packaging>=23.2 in /usr/local/lib/python3.12/dist-packages (from langchain-core<2.0.0,>=0.3.75->langchain_community) (25.0)\n",
            "Requirement already satisfied: httpx<1,>=0.23.0 in /usr/local/lib/python3.12/dist-packages (from langsmith>=0.1.125->langchain_community) (0.28.1)\n",
            "Requirement already satisfied: orjson>=3.9.14 in /usr/local/lib/python3.12/dist-packages (from langsmith>=0.1.125->langchain_community) (3.11.3)\n",
            "Requirement already satisfied: requests-toolbelt>=1.0.0 in /usr/local/lib/python3.12/dist-packages (from langsmith>=0.1.125->langchain_community) (1.0.0)\n",
            "Requirement already satisfied: zstandard>=0.23.0 in /usr/local/lib/python3.12/dist-packages (from langsmith>=0.1.125->langchain_community) (0.25.0)\n",
            "Requirement already satisfied: python-dotenv>=0.21.0 in /usr/local/lib/python3.12/dist-packages (from pydantic-settings<3.0.0,>=2.10.1->langchain_community) (1.1.1)\n",
            "Requirement already satisfied: typing-inspection>=0.4.0 in /usr/local/lib/python3.12/dist-packages (from pydantic-settings<3.0.0,>=2.10.1->langchain_community) (0.4.1)\n",
            "Requirement already satisfied: charset_normalizer<4,>=2 in /usr/local/lib/python3.12/dist-packages (from requests<3,>=2.32.5->langchain_community) (3.4.3)\n",
            "Requirement already satisfied: idna<4,>=2.5 in /usr/local/lib/python3.12/dist-packages (from requests<3,>=2.32.5->langchain_community) (3.10)\n",
            "Requirement already satisfied: urllib3<3,>=1.21.1 in /usr/local/lib/python3.12/dist-packages (from requests<3,>=2.32.5->langchain_community) (2.5.0)\n",
            "Requirement already satisfied: certifi>=2017.4.17 in /usr/local/lib/python3.12/dist-packages (from requests<3,>=2.32.5->langchain_community) (2025.8.3)\n",
            "Requirement already satisfied: greenlet>=1 in /usr/local/lib/python3.12/dist-packages (from SQLAlchemy<3,>=1.4->langchain_community) (3.2.4)\n",
            "Requirement already satisfied: anyio in /usr/local/lib/python3.12/dist-packages (from httpx<1,>=0.23.0->langsmith>=0.1.125->langchain_community) (4.10.0)\n",
            "Requirement already satisfied: httpcore==1.* in /usr/local/lib/python3.12/dist-packages (from httpx<1,>=0.23.0->langsmith>=0.1.125->langchain_community) (1.0.9)\n",
            "Requirement already satisfied: h11>=0.16 in /usr/local/lib/python3.12/dist-packages (from httpcore==1.*->httpx<1,>=0.23.0->langsmith>=0.1.125->langchain_community) (0.16.0)\n",
            "Requirement already satisfied: jsonpointer>=1.9 in /usr/local/lib/python3.12/dist-packages (from jsonpatch<2.0,>=1.33->langchain-core<2.0.0,>=0.3.75->langchain_community) (3.0.0)\n",
            "Requirement already satisfied: annotated-types>=0.6.0 in /usr/local/lib/python3.12/dist-packages (from pydantic<3.0.0,>=2.7.4->langchain<2.0.0,>=0.3.27->langchain_community) (0.7.0)\n",
            "Requirement already satisfied: pydantic-core==2.33.2 in /usr/local/lib/python3.12/dist-packages (from pydantic<3.0.0,>=2.7.4->langchain<2.0.0,>=0.3.27->langchain_community) (2.33.2)\n",
            "Collecting mypy-extensions>=0.3.0 (from typing-inspect<1,>=0.4.0->dataclasses-json<0.7,>=0.6.7->langchain_community)\n",
            "  Downloading mypy_extensions-1.1.0-py3-none-any.whl.metadata (1.1 kB)\n",
            "Requirement already satisfied: sniffio>=1.1 in /usr/local/lib/python3.12/dist-packages (from anyio->httpx<1,>=0.23.0->langsmith>=0.1.125->langchain_community) (1.3.1)\n",
            "Downloading langchain_community-0.3.29-py3-none-any.whl (2.5 MB)\n",
            "\u001b[2K   \u001b[90m━━━━━━━━━━━━━━━━━━━━━━━━━━━━━━━━━━━━━━━━\u001b[0m \u001b[32m2.5/2.5 MB\u001b[0m \u001b[31m37.4 MB/s\u001b[0m eta \u001b[36m0:00:00\u001b[0m\n",
            "\u001b[?25hDownloading dataclasses_json-0.6.7-py3-none-any.whl (28 kB)\n",
            "Downloading requests-2.32.5-py3-none-any.whl (64 kB)\n",
            "\u001b[2K   \u001b[90m━━━━━━━━━━━━━━━━━━━━━━━━━━━━━━━━━━━━━━━━\u001b[0m \u001b[32m64.7/64.7 kB\u001b[0m \u001b[31m4.7 MB/s\u001b[0m eta \u001b[36m0:00:00\u001b[0m\n",
            "\u001b[?25hDownloading marshmallow-3.26.1-py3-none-any.whl (50 kB)\n",
            "\u001b[2K   \u001b[90m━━━━━━━━━━━━━━━━━━━━━━━━━━━━━━━━━━━━━━━━\u001b[0m \u001b[32m50.9/50.9 kB\u001b[0m \u001b[31m3.6 MB/s\u001b[0m eta \u001b[36m0:00:00\u001b[0m\n",
            "\u001b[?25hDownloading typing_inspect-0.9.0-py3-none-any.whl (8.8 kB)\n",
            "Downloading mypy_extensions-1.1.0-py3-none-any.whl (5.0 kB)\n",
            "Installing collected packages: requests, mypy-extensions, marshmallow, typing-inspect, dataclasses-json, langchain_community\n",
            "  Attempting uninstall: requests\n",
            "    Found existing installation: requests 2.32.4\n",
            "    Uninstalling requests-2.32.4:\n",
            "      Successfully uninstalled requests-2.32.4\n",
            "\u001b[31mERROR: pip's dependency resolver does not currently take into account all the packages that are installed. This behaviour is the source of the following dependency conflicts.\n",
            "google-colab 1.0.0 requires requests==2.32.4, but you have requests 2.32.5 which is incompatible.\u001b[0m\u001b[31m\n",
            "\u001b[0mSuccessfully installed dataclasses-json-0.6.7 langchain_community-0.3.29 marshmallow-3.26.1 mypy-extensions-1.1.0 requests-2.32.5 typing-inspect-0.9.0\n"
          ]
        }
      ],
      "source": [
        "!pip install replicate\n",
        "!pip install langchain_community"
      ]
    },
    {
      "cell_type": "code",
      "source": [
        "from google.colab import userdata\n",
        "import os\n",
        "\n",
        "# ambil api_token dari secret\n",
        "api_token = userdata.get(\"api_token\")\n",
        "\n",
        "# lempar api_token ke env. var.\n",
        "os.environ[\"REPLICATE_API_TOKEN\"] = api_token"
      ],
      "metadata": {
        "id": "YyJ53q30QP1o"
      },
      "execution_count": 2,
      "outputs": []
    },
    {
      "cell_type": "code",
      "source": [
        "from langchain_community.llms import Replicate\n",
        "\n",
        "# Get the llm\n",
        "llm = Replicate(model=\"ibm-granite/granite-3.3-8b-instruct\")"
      ],
      "metadata": {
        "id": "ajmx1O4QQU9q"
      },
      "execution_count": null,
      "outputs": []
    },
    {
      "cell_type": "code",
      "source": [
        "pip install kagglehub[pandas-datasets]"
      ],
      "metadata": {
        "id": "hf42YFPIf1WT"
      },
      "execution_count": null,
      "outputs": []
    },
    {
      "cell_type": "code",
      "source": [
        "import kagglehub\n",
        "from kagglehub import KaggleDatasetAdapter"
      ],
      "metadata": {
        "id": "oeInD0cQgX80"
      },
      "execution_count": null,
      "outputs": []
    },
    {
      "cell_type": "code",
      "source": [
        "file_path = \"global_warming_dataset.csv\""
      ],
      "metadata": {
        "id": "EwnxGSpYgaUC"
      },
      "execution_count": null,
      "outputs": []
    },
    {
      "cell_type": "code",
      "source": [
        "import kagglehub\n",
        "from kagglehub import KaggleDatasetAdapter\n",
        "\n",
        "df = kagglehub.load_dataset(\n",
        "  KaggleDatasetAdapter.PANDAS,\n",
        "  \"ankushpanday1/global-warming-dataset-195-countries-1900-2023\",\n",
        "  file_path,\n",
        "  # Provide any additional arguments like\n",
        "  # sql_query or pandas_kwargs. See the\n",
        "  # documenation for more information:\n",
        "  # https://github.com/Kaggle/kagglehub/blob/main/README.md#kaggledatasetadapterpandas\n",
        ")\n",
        "\n",
        "print(\"First 5 records:\", df.head())"
      ],
      "metadata": {
        "id": "RZvZvPcbQrBa"
      },
      "execution_count": null,
      "outputs": []
    },
    {
      "cell_type": "code",
      "source": [
        "df"
      ],
      "metadata": {
        "id": "JrhGh3W5kjds"
      },
      "execution_count": null,
      "outputs": []
    },
    {
      "cell_type": "code",
      "source": [
        "df[\"Country\"].unique()\n"
      ],
      "metadata": {
        "id": "Xt_nNi7-VElW"
      },
      "execution_count": null,
      "outputs": []
    },
    {
      "cell_type": "code",
      "source": [
        "prompt = f\"\"\"\n",
        "You are a data cleaning AI assistant.\n",
        "I have a dataset of global warming data from 1900 to 2023 for 195 countries (file: global_warming_dataset.csv).\n",
        "\n",
        "Your task:\n",
        "1. Check for missing or corrupted data.\n",
        "2. Provide step-by-step instructions to clean the dataset.\n",
        "\n",
        "Respond clearly and concisely with cleaning steps only.\n",
        "\"\"\"\n",
        "output = llm.invoke(prompt)\n",
        "print(output)\n"
      ],
      "metadata": {
        "id": "ZJIU3lsyYBR1"
      },
      "execution_count": null,
      "outputs": []
    },
    {
      "cell_type": "code",
      "source": [
        "df.isnull().sum()"
      ],
      "metadata": {
        "id": "ZXJ549vvj_M7"
      },
      "execution_count": null,
      "outputs": []
    },
    {
      "cell_type": "code",
      "source": [
        "!pip install langchain_experimental"
      ],
      "metadata": {
        "id": "4E53DonlVRiL"
      },
      "execution_count": null,
      "outputs": []
    },
    {
      "cell_type": "code",
      "source": [
        "import matplotlib.pyplot as plt"
      ],
      "metadata": {
        "id": "30ky-P9GXhyD"
      },
      "execution_count": null,
      "outputs": []
    },
    {
      "cell_type": "code",
      "source": [
        "from langchain_experimental.agents.agent_toolkits.pandas.base import create_pandas_dataframe_agent\n",
        "\n",
        "agent = create_pandas_dataframe_agent(\n",
        "    llm=llm,\n",
        "    df=df,\n",
        "    verbose=True,\n",
        "    allow_dangerous_code=True\n",
        ")\n",
        "\n",
        "# Prompt untuk analisis dataset\n",
        "prompt = \"Berikan analisis ringkas tentang dataset ini dan buatkan plot visualnya terkait tren perubahan iklim.\"\n",
        "\n",
        "# Granite untuk analisis\n",
        "output = agent.invoke({\"input\": prompt})\n",
        "\n",
        "# Tampilkan hasil\n",
        "print(\"Hasil Analisis:\\n\", output)\n",
        "\n",
        "result = agent.invoke(\n",
        "    \"Tampilkan 5 baris pertama dari df_climate dalam format tabel Pandas, bukan markdown atau text.\"\n",
        ")\n",
        "print(result['output'])"
      ],
      "metadata": {
        "id": "RaitCwTmszVu"
      },
      "execution_count": null,
      "outputs": []
    },
    {
      "cell_type": "markdown",
      "source": [
        "Karena Granite kurang bagus dalam membuat grafik maka analisis chart dilakukan manual, Granite akan melakukan analisisnaratif saja, seperti pola dan insight"
      ],
      "metadata": {
        "id": "BhWSvLpkYRu5"
      }
    },
    {
      "cell_type": "code",
      "source": [
        "df.info()"
      ],
      "metadata": {
        "id": "8x1LZOTUYQNS"
      },
      "execution_count": null,
      "outputs": []
    },
    {
      "cell_type": "code",
      "source": [
        "df.describe()"
      ],
      "metadata": {
        "id": "kn4B-sHYYgCx"
      },
      "execution_count": null,
      "outputs": []
    },
    {
      "cell_type": "code",
      "source": [
        "# year vs Temperature_Anomaly\n",
        "import seaborn as sns\n",
        "import plotly.express as px\n",
        "plt.figure(figsize=(10,8))\n",
        "sns.lineplot(data=df, x='Year', y='Temperature_Anomaly', color='crimson', linewidth=2)\n",
        "\n",
        "plt.title(\"Yearly Trend of Temperature Anomaly\", fontsize=14, fontweight=\"bold\")\n",
        "plt.xlabel(\"Year\")\n",
        "plt.ylabel(\"Temperature Anomaly\")\n",
        "plt.grid(True)\n",
        "plt.legend([\"Temperature Anomaly\"], loc=\"best\")\n",
        "\n",
        "plt.show()"
      ],
      "metadata": {
        "id": "XgJgiR3XYjBJ"
      },
      "execution_count": null,
      "outputs": []
    },
    {
      "cell_type": "code",
      "source": [
        "# Calculate the correlation matrix\n",
        "correlation_matrix = df.corr(numeric_only=True)\n",
        "\n",
        "# Plot the heatmap\n",
        "plt.figure(figsize=(15, 12))\n",
        "sns.heatmap(correlation_matrix, annot=True, cmap='coolwarm', fmt=\".2f\")\n",
        "plt.title('Correlation Matrix Heatmap')\n",
        "plt.show()"
      ],
      "metadata": {
        "id": "YFfG75Ocb-Gu"
      },
      "execution_count": null,
      "outputs": []
    },
    {
      "cell_type": "code",
      "source": [
        "plt.figure(figsize=(10, 6))\n",
        "sns.scatterplot(\n",
        "    x='Policy_Score',\n",
        "    y='Renewable_Energy_Usage',\n",
        "    size='CO2_Emissions',\n",
        "    hue='Air_Pollution_Index',\n",
        "    data=df,\n",
        "    sizes=(20, 400),\n",
        "    palette='coolwarm',\n",
        "    alpha=0.6,\n",
        "    edgecolor='black'\n",
        ")\n",
        "\n",
        "plt.title('Impact of Policy on Renewable Energy Adoption', fontsize=14, fontweight='bold')\n",
        "plt.xlabel('Policy Effectiveness Score', fontsize=12)\n",
        "plt.ylabel('Renewable Energy Usage (%)', fontsize=12)\n",
        "plt.grid(True, linestyle='--', alpha=0.5)\n",
        "plt.legend(bbox_to_anchor=(1.02, 1), loc='upper left', borderaxespad=0)\n",
        "plt.tight_layout()\n",
        "plt.show()"
      ],
      "metadata": {
        "id": "7agNhtLAcOtG"
      },
      "execution_count": null,
      "outputs": []
    },
    {
      "cell_type": "code",
      "source": [
        "df['Decade'] = ((df['Year'] // 10) * 10).astype(str) + 's'"
      ],
      "metadata": {
        "id": "akDSZTCEfJCg"
      },
      "execution_count": null,
      "outputs": []
    },
    {
      "cell_type": "code",
      "source": [
        "df_gl_aml = df.groupby('Decade')['Temperature_Anomaly'].mean().reset_index()"
      ],
      "metadata": {
        "id": "7N1rCfVgfBwk"
      },
      "execution_count": null,
      "outputs": []
    },
    {
      "cell_type": "code",
      "source": [
        "plt.figure(figsize=(10, 6))\n",
        "plt.plot(df_gl_aml['Decade'], df_gl_aml['Temperature_Anomaly'], marker='o', linestyle='-', color='b')\n",
        "\n",
        "#customize the plot\n",
        "plt.title('Temperature Anamoly by Decade')\n",
        "plt.xlabel('Decade')\n",
        "plt.ylabel('Temperature Anomaly')\n",
        "plt.xticks(rotation=45)\n",
        "plt.grid(True)\n",
        "\n",
        "#Display the plot\n",
        "plt.tight_layout()\n",
        "plt.show()"
      ],
      "metadata": {
        "id": "yeaM1YLSexzz"
      },
      "execution_count": null,
      "outputs": []
    },
    {
      "cell_type": "code",
      "source": [
        "time_series_var = 'CO2_Emissions'\n",
        "plt.figure(figsize=(12, 6))\n",
        "sns.lineplot(df, x='Year', y=time_series_var)\n",
        "plt.title(f\"Trend of {time_series_var} Over Time\")\n",
        "plt.xlabel(\"Year\")\n",
        "plt.ylabel(time_series_var)\n",
        "plt.grid(True)\n",
        "plt.show()"
      ],
      "metadata": {
        "id": "ZJljddmifA8r"
      },
      "execution_count": null,
      "outputs": []
    },
    {
      "cell_type": "code",
      "source": [
        "time_series_var = 'Deforestation_Rate'\n",
        "plt.figure(figsize=(12, 6))\n",
        "sns.lineplot(df, x='Year', y=time_series_var)\n",
        "plt.title(f\"Trend of {time_series_var} Over Time\")\n",
        "plt.xlabel(\"Year\")\n",
        "plt.ylabel(time_series_var)\n",
        "plt.grid(True)\n",
        "plt.show()"
      ],
      "metadata": {
        "id": "1018iQO5kGVM"
      },
      "execution_count": null,
      "outputs": []
    },
    {
      "cell_type": "code",
      "source": [
        "time_series_var = 'Average_Rainfall'\n",
        "plt.figure(figsize=(12, 6))\n",
        "sns.lineplot(df, x='Year', y=time_series_var)\n",
        "plt.title(f\"Trend of {time_series_var} Over Time\")\n",
        "plt.xlabel(\"Year\")\n",
        "plt.ylabel(time_series_var)\n",
        "plt.grid(True)\n",
        "plt.show()"
      ],
      "metadata": {
        "id": "6Tl2rk4qkJU7"
      },
      "execution_count": null,
      "outputs": []
    },
    {
      "cell_type": "code",
      "source": [
        "agent.invoke({\"input\": \"\"\"Analisis kolom 'Temperature_Anomaly'. Jelaskan tren keseluruhan dari tahun ke tahun, sebutkan periode perubahan signifikan, serta apa implikasinya terhadap pola perubahan iklim global. Jawaban harus jelas, ringkas, tidak berputar-putar, gunakan bahasa sederhana, berikan poin utama, lalu simpulkan secara singkat.\n",
        "\"\"\"}, handle_parsing_errors=True)"
      ],
      "metadata": {
        "id": "Ks4zfOBUlCom"
      },
      "execution_count": null,
      "outputs": []
    },
    {
      "cell_type": "code",
      "source": [
        "prompt = \"\"\"Analisis kolom 'CO2_Emissions'.\n",
        "Bagaimana perkembangan emisi dari waktu ke waktu, apakah ada kaitannya dengan populasi atau aktivitas industri,\n",
        "dan apa wawasan yang bisa diambil untuk kebijakan iklim.\n",
        "Jawaban harus jelas, ringkas, tidak berputar-putar, gunakan bahasa sederhana, berikan poin utama, lalu simpulkan secara singkat.\n",
        "\"\"\"\n",
        "\n",
        "output = llm.invoke(prompt)\n",
        "print(\"Output Granite:\\n\", output)\n"
      ],
      "metadata": {
        "id": "hXppguo7mhNn"
      },
      "execution_count": null,
      "outputs": []
    },
    {
      "cell_type": "code",
      "source": [
        "prompt = f\"\"\"\n",
        "Analisis kolom 'Sea_Level_Rise'. Jelaskan tren jangka panjang, apakah ada percepatan dalam beberapa dekade terakhir, dan hubungkan hasil ini dengan indikator iklim lain jika relevan.\n",
        "\n",
        "Jawaban harus:\n",
        "- Jelas dan ringkas\n",
        "- Tidak berputar-putar\n",
        "- Gunakan bahasa sederhana\n",
        "- Berikan poin utama\n",
        "- Akhiri dengan kesimpulan singkat\n",
        "\"\"\"\n",
        "\n",
        "print(\"Prompt yang dikirim ke Granite:\\n\", prompt)\n",
        "\n",
        "# Panggil Granite langsung\n",
        "output = llm.invoke(prompt)\n",
        "\n",
        "print(\"Output Granite:\\n\", output)\n"
      ],
      "metadata": {
        "id": "LPMqnF7wqJFq"
      },
      "execution_count": null,
      "outputs": []
    },
    {
      "cell_type": "code",
      "source": [
        "prompt = f\"\"\"\n",
        "Analisis hubungan antara 'Forest_Area' dan 'Deforestation_Rate'.\n",
        "Apakah luas hutan menurun, seberapa cepat deforestasi terjadi, dan apa dampaknya terhadap ekosistem.\n",
        "\n",
        "Jawaban harus:\n",
        "- Jelas dan ringkas\n",
        "- Tidak berputar-putar\n",
        "- Gunakan bahasa sederhana\n",
        "- Berikan poin utama\n",
        "- Akhiri dengan kesimpulan singkat\n",
        "\"\"\"\n",
        "\n",
        "print(\"Prompt yang dikirim ke Granite:\\n\", prompt)\n",
        "\n",
        "# Panggil Granite langsung\n",
        "output = llm.invoke(prompt)\n",
        "\n",
        "print(\"Output Granite:\\n\", output)\n"
      ],
      "metadata": {
        "id": "xcECtJx7o-86"
      },
      "execution_count": null,
      "outputs": []
    },
    {
      "cell_type": "code",
      "source": [
        "prompt = f\"\"\"\n",
        "Analisis kolom 'Renewable_Energy_Usage'. Apakah penggunaannya meningkat dari waktu ke waktu, bagaimana perbandingannya dengan penggunaan bahan bakar fosil, serta apa artinya bagi transisi energi.\n",
        "\n",
        "Jawaban harus:\n",
        "- Jelas dan ringkas\n",
        "- Tidak berputar-putar\n",
        "- Gunakan bahasa sederhana\n",
        "- Berikan poin utama\n",
        "- Akhiri dengan kesimpulan singkat\n",
        "\"\"\"\n",
        "\n",
        "print(\"Prompt yang dikirim ke Granite:\\n\", prompt)\n",
        "\n",
        "# Panggil Granite langsung\n",
        "output = llm.invoke(prompt)\n",
        "\n",
        "print(\"Output Granite:\\n\", output)\n"
      ],
      "metadata": {
        "id": "W7Ee-9h0qZbg"
      },
      "execution_count": null,
      "outputs": []
    },
    {
      "cell_type": "code",
      "source": [
        "prompt = f\"\"\"\n",
        "Analisis kolom 'Biodiversity_Index'.\n",
        "Apakah keanekaragaman hayati mengalami penurunan, apakah ada hubungannya dengan deforestasi atau polusi,\n",
        "serta apa pentingnya bagi keberlanjutan lingkungan.\n",
        "\n",
        "Jawaban harus:\n",
        "- Jelas dan ringkas\n",
        "- Tidak berputar-putar\n",
        "- Gunakan bahasa sederhana\n",
        "- Berikan poin utama\n",
        "- Akhiri dengan kesimpulan singkat\n",
        "\"\"\"\n",
        "\n",
        "print(\"Prompt yang dikirim ke Granite:\\n\", prompt)\n",
        "\n",
        "# Panggil Granite langsung\n",
        "output = llm.invoke(prompt)\n",
        "\n",
        "print(\"Output Granite:\\n\", output)\n"
      ],
      "metadata": {
        "id": "-fG9InProzJG"
      },
      "execution_count": null,
      "outputs": []
    },
    {
      "cell_type": "code",
      "source": [
        "prompt = f\"\"\"\n",
        "Analisis kolom 'Air_Pollution_Index'.\n",
        "Apakah indeks polusi udara cenderung meningkat atau menurun, faktor apa yang memengaruhinya, dan bagaimana dampaknya terhadap kesehatan masyarakat.\n",
        "\n",
        "Jawaban harus:\n",
        "- Jelas dan ringkas\n",
        "- Tidak berputar-putar\n",
        "- Gunakan bahasa sederhana\n",
        "- Berikan poin utama\n",
        "- Akhiri dengan kesimpulan singkat\n",
        "\"\"\"\n",
        "\n",
        "print(\"Prompt yang dikirim ke Granite:\\n\", prompt)\n",
        "\n",
        "# Panggil Granite langsung\n",
        "output = llm.invoke(prompt)\n",
        "\n",
        "print(\"Output Granite:\\n\", output)\n"
      ],
      "metadata": {
        "id": "71tYRAz4qhwp"
      },
      "execution_count": null,
      "outputs": []
    }
  ]
}